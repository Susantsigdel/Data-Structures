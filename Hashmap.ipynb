import numpy as np
class MyDict():
    def __init__(self, size):
        self.ary = np.full(size, dtype = tuple, fill_value = None)
        
    def __repr__(self):
        return str(self.ary)
    
    def get(self, key):        
        mod = hash(key)% 10
        return self.ary[mod]
    
    def put(self, key, value):
        val = hash(key)
        mod = val % 10
        self.ary[mod] = value
mydict = MyDict(10)
print('Initial state:', mydict)
print('Initially, 007=',mydict.get('007'))
previous = mydict.put('007','Bond')
if previous is not None:
    print('WARN! overwrote previous value:',previous)
print('After first add:',mydict)
print('Test: 007=', mydict.get('007'))
previous = mydict.put('007','James Bond')
if previous is not None:
    print('WARN! overwrote previous value:',previous)
print('After second add:', mydict)
print('Test: 007=', mydict.get('007')) 
print('\n\n')
### Tested other key-value

print('Initial state:', mydict)
print('Initially, 08=',mydict.get('08'))
previous = mydict.put('08','Tom')
if previous is not None:
    print('WARN! overwrote previous value:',previous)
print('After first add:',mydict)
print('Test: 08=', mydict.get('08'))
previous = mydict.put('08','Tom Hanks')
if previous is not None:
    print('WARN! overwrote previous value:',previous)
print('After second add:', mydict)
print('Test: 08=', mydict.get('08')) 
print('\n\n')
# tested other key-value

print('Initial state:', mydict)
print('Initially, 1 =',mydict.get('1'))
previous = mydict.put('1','Susant')
if previous is not None:
    print('WARN! overwrote previous value:',previous)
print('After first add:',mydict)
print('Test: 1 =', mydict.get('1'))
previous = mydict.put('1','Susant Sigdel')
if previous is not None:
    print('WARN! overwrote previous value:',previous)
print('After second add:', mydict)
print('Test: 1 =', mydict.get('1')) 
print('\n\n')

